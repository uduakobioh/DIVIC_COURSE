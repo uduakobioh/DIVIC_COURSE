{
 "cells": [
  {
   "cell_type": "markdown",
   "id": "94d3ad3e",
   "metadata": {},
   "source": [
    "## Problem 1\n",
    "**Matrix Product is Calculated Manually**"
   ]
  },
  {
   "cell_type": "markdown",
   "id": "b6b0d43a",
   "metadata": {},
   "source": [
    "$\n",
    "A = \\begin{bmatrix}\n",
    "-1 & 2 & 3\\\\\n",
    "4 & -5 & 6\\\\\n",
    "7 & 8 & -9\n",
    "\\end{bmatrix}\n",
    "$  \n",
    "<br>\n",
    "\n",
    "$\n",
    "B = \\begin{bmatrix}\n",
    "0 & 2 & 1\\\\\n",
    "0 & 2 & -8\\\\\n",
    "2 & 9 & -1\n",
    "\\end{bmatrix}\n",
    "$  \n",
    "<br>\n",
    "\n",
    "$\n",
    "A \\times B = \\begin{bmatrix}\n",
    "-1 & 2 & 3\\\\\n",
    "4 & -5 & 6\\\\\n",
    "7 & 8 & -9\n",
    "\\end{bmatrix} \\times \\begin{bmatrix}\n",
    "0 & 2 & 1\\\\\n",
    "0 & 2 & -8\\\\\n",
    "2 & 9 & -1\n",
    "\\end{bmatrix}\n",
    "$  \n",
    "<br>\n",
    "Matrix multiplication is done by calculating the dot product of each row of matrix A with each column of matrix B\n",
    "<br>\n",
    "i.e $A \\cdot B[i,j] = A[i,0] \\cdot B[0,j] + A[i,1] \\cdot B[1,j] + A[i,2] \\cdot B[2,j]$  \n",
    "<br>\n",
    "\n",
    "$\n",
    "A \\times B = \\begin{bmatrix}\n",
    "((−1)\\cdot0+2\\cdot0+3\\cdot2) & ((-1)\\cdot2+2\\cdot2+3\\cdot9) & ((-1)\\cdot1+2\\cdot(-8)+3\\cdot(-1))\\\\\n",
    "(4\\cdot0+(-5)\\cdot0+6\\cdot2) & (4\\cdot2+(-5)\\cdot2+6\\cdot9) & (4\\cdot1+(-5)\\cdot(-8)+6\\cdot(-1))\\\\\n",
    "(7\\cdot0+8\\cdot0+(-9)\\cdot2) & (7\\cdot2+8\\cdot2+(-9)\\cdot9) & (7\\cdot1+8\\cdot(-8)+(-9)\\cdot(-1))\n",
    "\\end{bmatrix}\n",
    "$  \n",
    "<br>\n",
    "\n",
    "$\n",
    "A \\times B = \\begin{bmatrix}\n",
    "6 & 29 & -20\\\\\n",
    "12 & 52 & 38\\\\\n",
    "-18 & -51 & -48\n",
    "\\end{bmatrix}\n",
    "$  \n",
    "<br>\n",
    "This is the result of multiplying matrices A and B by hand. "
   ]
  },
  {
   "cell_type": "markdown",
   "id": "affb4641",
   "metadata": {},
   "source": [
    "## Problem 2\n",
    "**Calculation by Numpy Function**"
   ]
  },
  {
   "cell_type": "code",
   "execution_count": 1,
   "id": "a2d1e103",
   "metadata": {},
   "outputs": [],
   "source": [
    "import numpy as np"
   ]
  },
  {
   "cell_type": "code",
   "execution_count": 2,
   "id": "ef82a404",
   "metadata": {},
   "outputs": [
    {
     "data": {
      "text/plain": [
       "array([[-1,  2,  3],\n",
       "       [ 4, -5,  6],\n",
       "       [ 7,  8, -9]])"
      ]
     },
     "execution_count": 2,
     "metadata": {},
     "output_type": "execute_result"
    }
   ],
   "source": [
    "A = np.array([[-1, 2 ,3], [4, -5, 6], [7, 8, -9]])\n",
    "A"
   ]
  },
  {
   "cell_type": "code",
   "execution_count": 3,
   "id": "25bd08f8",
   "metadata": {},
   "outputs": [
    {
     "data": {
      "text/plain": [
       "array([[ 0,  2,  1],\n",
       "       [ 0,  2, -8],\n",
       "       [ 2,  9, -1]])"
      ]
     },
     "execution_count": 3,
     "metadata": {},
     "output_type": "execute_result"
    }
   ],
   "source": [
    "B = np.array([[0, 2, 1], [0, 2, -8], [2, 9, -1]])\n",
    "B"
   ]
  },
  {
   "cell_type": "code",
   "execution_count": 4,
   "id": "2f0d0418",
   "metadata": {},
   "outputs": [
    {
     "data": {
      "text/plain": [
       "array([[  6,  29, -20],\n",
       "       [ 12,  52,  38],\n",
       "       [-18, -51, -48]])"
      ]
     },
     "execution_count": 4,
     "metadata": {},
     "output_type": "execute_result"
    }
   ],
   "source": [
    "np.matmul(A, B)"
   ]
  },
  {
   "cell_type": "code",
   "execution_count": 5,
   "id": "8aef0d83",
   "metadata": {},
   "outputs": [
    {
     "data": {
      "text/plain": [
       "array([[  6,  29, -20],\n",
       "       [ 12,  52,  38],\n",
       "       [-18, -51, -48]])"
      ]
     },
     "execution_count": 5,
     "metadata": {},
     "output_type": "execute_result"
    }
   ],
   "source": [
    "np.dot(A, B)"
   ]
  },
  {
   "cell_type": "code",
   "execution_count": null,
   "id": "c6beec83",
   "metadata": {},
   "outputs": [],
   "source": [
    "A@B"
   ]
  },
  {
   "cell_type": "markdown",
   "id": "8fdf5f20",
   "metadata": {},
   "source": [
    "## Problem 3\n",
    "**Implementation of Calculation of a Certain Element**"
   ]
  },
  {
   "cell_type": "code",
   "execution_count": null,
   "id": "52831bd0",
   "metadata": {},
   "outputs": [],
   "source": []
  }
 ],
 "metadata": {
  "kernelspec": {
   "display_name": "Python 3 (ipykernel)",
   "language": "python",
   "name": "python3"
  },
  "language_info": {
   "codemirror_mode": {
    "name": "ipython",
    "version": 3
   },
   "file_extension": ".py",
   "mimetype": "text/x-python",
   "name": "python",
   "nbconvert_exporter": "python",
   "pygments_lexer": "ipython3",
   "version": "3.10.10"
  }
 },
 "nbformat": 4,
 "nbformat_minor": 5
}
