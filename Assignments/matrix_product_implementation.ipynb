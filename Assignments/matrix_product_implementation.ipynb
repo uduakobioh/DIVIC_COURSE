{
 "cells": [
  {
   "cell_type": "markdown",
   "id": "255ce694",
   "metadata": {},
   "source": [
    "## Problem 1\n",
    "**Matrix product is calculated manually**"
   ]
  },
  {
   "cell_type": "markdown",
   "id": "122eede6",
   "metadata": {},
   "source": [
    "$\n",
    "A = \\begin{bmatrix}\n",
    "-1 & 2 & 3\\\\\n",
    "4 & -5 & 6\\\\\n",
    "7 & 8 & -9\n",
    "\\end{bmatrix}\n",
    "$  \n",
    "<br>\n",
    "\n",
    "$\n",
    "B = \\begin{bmatrix}\n",
    "0 & 2 & 1\\\\\n",
    "0 & 2 & -8\\\\\n",
    "2 & 9 & -1\n",
    "\\end{bmatrix}\n",
    "$  \n",
    "<br>\n",
    "\n",
    "To find the matrix product of A and B, denoted as AB, you need to perform the dot product of each row of A with each column of B. Let's denote the elements of the resulting matrix as C. The element in the ith row and jth column of C (denoted as $C[i, j]$) is calculated as follows:  \n",
    "<br>\n",
    "$C[i,j] = A[i,0] \\cdot B[0,j] + A[i,1] \\cdot B[1,j] + A[i,2] \\cdot B[2,j]$  \n",
    "<br>\n",
    "\n",
    "$\n",
    "C = \\begin{bmatrix}\n",
    "-1 & 2 & 3\\\\\n",
    "4 & -5 & 6\\\\\n",
    "7 & 8 & -9\n",
    "\\end{bmatrix} \\times \\begin{bmatrix}\n",
    "0 & 2 & 1\\\\\n",
    "0 & 2 & -8\\\\\n",
    "2 & 9 & -1\n",
    "\\end{bmatrix}\n",
    "$  \n",
    "<br>\n",
    "\n",
    "$\n",
    "C = \\begin{bmatrix}\n",
    "((-1)\\cdot0+2\\cdot0+3\\cdot2) & ((-1)\\cdot2+2\\cdot2+3\\cdot9) & ((-1)\\cdot1+2\\cdot(-8)+3\\cdot(-1))\\\\\n",
    "(4\\cdot0+(-5)\\cdot0+6\\cdot2) & (4\\cdot2+(-5)\\cdot2+6\\cdot9) & (4\\cdot1+(-5)\\cdot(-8)+6\\cdot(-1)\\\\\n",
    "(7\\cdot0+8\\cdot0+(-9)\\cdot2) & (7\\cdot2+8\\cdot2+(-9)\\cdot9) & (7\\cdot1+8\\cdot(-8)+(-9)\\cdot(-1)\n",
    "\\end{bmatrix}\n",
    "$  \n",
    "<br>\n",
    "\n",
    "$\n",
    "C = \\begin{bmatrix}\n",
    "6 & 29 & -20\\\\\n",
    "12 & 52 & 38\\\\\n",
    "-18 & -51 & -48\n",
    "\\end{bmatrix}\n",
    "$  \n",
    "<br>"
   ]
  },
  {
   "cell_type": "markdown",
   "id": "4705cd53",
   "metadata": {},
   "source": [
    "## Problem 2\n",
    "**Calculation by Numpy Function**"
   ]
  },
  {
   "cell_type": "code",
   "execution_count": 1,
   "id": "425c5200",
   "metadata": {},
   "outputs": [],
   "source": [
    "import numpy as np"
   ]
  },
  {
   "cell_type": "code",
   "execution_count": 2,
   "id": "7c738739",
   "metadata": {},
   "outputs": [
    {
     "data": {
      "text/plain": [
       "array([[-1,  2,  3],\n",
       "       [ 4, -5,  6],\n",
       "       [ 7,  8, -9]])"
      ]
     },
     "execution_count": 2,
     "metadata": {},
     "output_type": "execute_result"
    }
   ],
   "source": [
    "A = np.array([[-1, 2, 3], [4, -5, 6], [7, 8, -9]])\n",
    "A"
   ]
  },
  {
   "cell_type": "code",
   "execution_count": 3,
   "id": "becb9df7",
   "metadata": {},
   "outputs": [
    {
     "data": {
      "text/plain": [
       "array([[ 0,  2,  1],\n",
       "       [ 0,  2, -8],\n",
       "       [ 2,  9, -1]])"
      ]
     },
     "execution_count": 3,
     "metadata": {},
     "output_type": "execute_result"
    }
   ],
   "source": [
    "B = np.array([[0, 2, 1], [0, 2, -8], [2, 9, -1]])\n",
    "B"
   ]
  },
  {
   "cell_type": "code",
   "execution_count": 4,
   "id": "4ee7ab84",
   "metadata": {},
   "outputs": [
    {
     "data": {
      "text/plain": [
       "array([[  6,  29, -20],\n",
       "       [ 12,  52,  38],\n",
       "       [-18, -51, -48]])"
      ]
     },
     "execution_count": 4,
     "metadata": {},
     "output_type": "execute_result"
    }
   ],
   "source": [
    "np.matmul(A, B)"
   ]
  },
  {
   "cell_type": "code",
   "execution_count": 5,
   "id": "634277e5",
   "metadata": {},
   "outputs": [
    {
     "data": {
      "text/plain": [
       "array([[  6,  29, -20],\n",
       "       [ 12,  52,  38],\n",
       "       [-18, -51, -48]])"
      ]
     },
     "execution_count": 5,
     "metadata": {},
     "output_type": "execute_result"
    }
   ],
   "source": [
    "np.dot(A, B)"
   ]
  },
  {
   "cell_type": "code",
   "execution_count": 6,
   "id": "09536b1e",
   "metadata": {},
   "outputs": [
    {
     "data": {
      "text/plain": [
       "array([[  6,  29, -20],\n",
       "       [ 12,  52,  38],\n",
       "       [-18, -51, -48]])"
      ]
     },
     "execution_count": 6,
     "metadata": {},
     "output_type": "execute_result"
    }
   ],
   "source": [
    "A@B"
   ]
  },
  {
   "cell_type": "markdown",
   "id": "51872987",
   "metadata": {},
   "source": [
    "## Problem 3\n",
    "**Implementation of calculation of a certain element**"
   ]
  },
  {
   "cell_type": "markdown",
   "id": "785c2567",
   "metadata": {},
   "source": [
    "Calculation for element $C_{ij}$ where i=0, j=0"
   ]
  },
  {
   "cell_type": "code",
   "execution_count": 7,
   "id": "909c489a",
   "metadata": {},
   "outputs": [
    {
     "data": {
      "text/plain": [
       "6"
      ]
     },
     "execution_count": 7,
     "metadata": {},
     "output_type": "execute_result"
    }
   ],
   "source": [
    "i=0\n",
    "j=0\n",
    "c = np.sum(A[i, :]*B[:, j].T)\n",
    "c"
   ]
  },
  {
   "cell_type": "markdown",
   "id": "f95f2b27",
   "metadata": {},
   "source": [
    "## Problem 4\n",
    "**Creating a function that performs matrix multiplication**"
   ]
  },
  {
   "cell_type": "code",
   "execution_count": 8,
   "id": "47abd821",
   "metadata": {},
   "outputs": [
    {
     "data": {
      "text/plain": [
       "array([[  6,  29, -20],\n",
       "       [ 12,  52,  38],\n",
       "       [-18, -51, -48]])"
      ]
     },
     "execution_count": 8,
     "metadata": {},
     "output_type": "execute_result"
    }
   ],
   "source": [
    "def compute_matrix_multiplication(array_A, array_B):\n",
    "    # Retrieve number of rows in array_A and number of columns in array_B\n",
    "    a_rows = array_A.shape[0]\n",
    "    b_columns = array_B.shape[1]\n",
    "    \n",
    "    # List to store the values\n",
    "    product_list = []\n",
    "    \n",
    "    for i in range(a_rows):\n",
    "        for j in range(b_columns):\n",
    "            value = np.sum(array_A[i,:]*array_B[:,j].T)\n",
    "            product_list.append(value)\n",
    "    \n",
    "    array_c = np.array(product_list).reshape(a_rows, b_columns)\n",
    "    return array_c\n",
    "\n",
    "compute_matrix_multiplication(A, B)"
   ]
  },
  {
   "cell_type": "markdown",
   "id": "64276659",
   "metadata": {},
   "source": [
    "## Problem 5\n",
    "**Judge the input whose calculation is not defined**"
   ]
  },
  {
   "cell_type": "code",
   "execution_count": 9,
   "id": "6e998ad5",
   "metadata": {},
   "outputs": [
    {
     "ename": "ValueError",
     "evalue": "operands could not be broadcast together with shapes (3,) (2,) ",
     "output_type": "error",
     "traceback": [
      "\u001b[1;31m---------------------------------------------------------------------------\u001b[0m",
      "\u001b[1;31mValueError\u001b[0m                                Traceback (most recent call last)",
      "Cell \u001b[1;32mIn[9], line 3\u001b[0m\n\u001b[0;32m      1\u001b[0m D \u001b[38;5;241m=\u001b[39m np\u001b[38;5;241m.\u001b[39marray([[\u001b[38;5;241m-\u001b[39m\u001b[38;5;241m1\u001b[39m, \u001b[38;5;241m2\u001b[39m, \u001b[38;5;241m3\u001b[39m], [\u001b[38;5;241m4\u001b[39m, \u001b[38;5;241m-\u001b[39m\u001b[38;5;241m5\u001b[39m, \u001b[38;5;241m6\u001b[39m]])\n\u001b[0;32m      2\u001b[0m E \u001b[38;5;241m=\u001b[39m np\u001b[38;5;241m.\u001b[39marray([[\u001b[38;5;241m-\u001b[39m\u001b[38;5;241m9\u001b[39m, \u001b[38;5;241m8\u001b[39m, \u001b[38;5;241m7\u001b[39m], [\u001b[38;5;241m6\u001b[39m, \u001b[38;5;241m-\u001b[39m\u001b[38;5;241m5\u001b[39m, \u001b[38;5;241m4\u001b[39m]])\n\u001b[1;32m----> 3\u001b[0m \u001b[43mcompute_matrix_multiplication\u001b[49m\u001b[43m(\u001b[49m\u001b[43mD\u001b[49m\u001b[43m,\u001b[49m\u001b[43m \u001b[49m\u001b[43mE\u001b[49m\u001b[43m)\u001b[49m\n",
      "Cell \u001b[1;32mIn[8], line 11\u001b[0m, in \u001b[0;36mcompute_matrix_multiplication\u001b[1;34m(array_A, array_B)\u001b[0m\n\u001b[0;32m      9\u001b[0m \u001b[38;5;28;01mfor\u001b[39;00m i \u001b[38;5;129;01min\u001b[39;00m \u001b[38;5;28mrange\u001b[39m(a_rows):\n\u001b[0;32m     10\u001b[0m     \u001b[38;5;28;01mfor\u001b[39;00m j \u001b[38;5;129;01min\u001b[39;00m \u001b[38;5;28mrange\u001b[39m(b_columns):\n\u001b[1;32m---> 11\u001b[0m         value \u001b[38;5;241m=\u001b[39m np\u001b[38;5;241m.\u001b[39msum(\u001b[43marray_A\u001b[49m\u001b[43m[\u001b[49m\u001b[43mi\u001b[49m\u001b[43m,\u001b[49m\u001b[43m:\u001b[49m\u001b[43m]\u001b[49m\u001b[38;5;241;43m*\u001b[39;49m\u001b[43marray_B\u001b[49m\u001b[43m[\u001b[49m\u001b[43m:\u001b[49m\u001b[43m,\u001b[49m\u001b[43mj\u001b[49m\u001b[43m]\u001b[49m\u001b[38;5;241;43m.\u001b[39;49m\u001b[43mT\u001b[49m)\n\u001b[0;32m     12\u001b[0m         product_list\u001b[38;5;241m.\u001b[39mappend(value)\n\u001b[0;32m     14\u001b[0m array_c \u001b[38;5;241m=\u001b[39m np\u001b[38;5;241m.\u001b[39marray(product_list)\u001b[38;5;241m.\u001b[39mreshape(a_rows, b_columns)\n",
      "\u001b[1;31mValueError\u001b[0m: operands could not be broadcast together with shapes (3,) (2,) "
     ]
    }
   ],
   "source": [
    "D = np.array([[-1, 2, 3], [4, -5, 6]])\n",
    "E = np.array([[-9, 8, 7], [6, -5, 4]])\n",
    "compute_matrix_multiplication(D, E)"
   ]
  },
  {
   "cell_type": "code",
   "execution_count": 11,
   "id": "ce6942b9",
   "metadata": {},
   "outputs": [],
   "source": [
    "def compute_matrix_multiplication(array_A, array_B):\n",
    "    # Retrieve number of rows in array_A and number of columns in array_B\n",
    "    a_rows = array_A.shape[0]\n",
    "    b_columns = array_B.shape[1]\n",
    "    \n",
    "    # Make sure a_rows equals b_columns\n",
    "    if a_rows!=b_columns:\n",
    "        return \"The number of rows in the first matrix should equal the number of columns in the second matrix\"\n",
    "    \n",
    "    # List to store the values\n",
    "    product_list = []\n",
    "    \n",
    "    for i in range(a_rows):\n",
    "        for j in range(b_columns):\n",
    "            value = np.sum(array_A[i,:]*array_B[:,j].T)\n",
    "            product_list.append(value)\n",
    "    \n",
    "    array_c = np.array(product_list).reshape(a_rows, b_columns)\n",
    "    return array_c"
   ]
  },
  {
   "cell_type": "code",
   "execution_count": 12,
   "id": "b9292ba2",
   "metadata": {},
   "outputs": [
    {
     "data": {
      "text/plain": [
       "'The number of rows in the first matrix should equal the number of columns in the second matrix'"
      ]
     },
     "execution_count": 12,
     "metadata": {},
     "output_type": "execute_result"
    }
   ],
   "source": [
    "compute_matrix_multiplication(D, E)"
   ]
  },
  {
   "cell_type": "markdown",
   "id": "a00d7329",
   "metadata": {},
   "source": [
    "## Problem 6\n",
    "**Transposition**"
   ]
  },
  {
   "cell_type": "code",
   "execution_count": 13,
   "id": "1a404e54",
   "metadata": {},
   "outputs": [
    {
     "data": {
      "text/plain": [
       "array([[ 46,  -4],\n",
       "       [-34,  73]])"
      ]
     },
     "execution_count": 13,
     "metadata": {},
     "output_type": "execute_result"
    }
   ],
   "source": [
    "E_transpose = E.T\n",
    "compute_matrix_multiplication(D, E_transpose)"
   ]
  }
 ],
 "metadata": {
  "kernelspec": {
   "display_name": "Python 3 (ipykernel)",
   "language": "python",
   "name": "python3"
  },
  "language_info": {
   "codemirror_mode": {
    "name": "ipython",
    "version": 3
   },
   "file_extension": ".py",
   "mimetype": "text/x-python",
   "name": "python",
   "nbconvert_exporter": "python",
   "pygments_lexer": "ipython3",
   "version": "3.10.10"
  }
 },
 "nbformat": 4,
 "nbformat_minor": 5
}
