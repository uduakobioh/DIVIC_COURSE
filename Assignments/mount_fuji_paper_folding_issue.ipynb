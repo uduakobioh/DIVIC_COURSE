{
 "cells": [
  {
   "cell_type": "markdown",
   "id": "177c119f",
   "metadata": {},
   "source": [
    "## **Problem 1**\n",
    "##### How many times to exceed the height of Mount Fuji"
   ]
  },
  {
   "cell_type": "code",
   "execution_count": 1,
   "id": "1359de9c",
   "metadata": {},
   "outputs": [
    {
     "name": "stdout",
     "output_type": "stream",
     "text": [
      "The number of times the paper must be folded for its thickness to exceed the height of Mount Fuji is 26 times\n"
     ]
    }
   ],
   "source": [
    "MOUNT_FUJI_HEIGHT = 3776\n",
    "\n",
    "thickness = 0.00008\n",
    "count = 0 # The number of times the paper has been folded\n",
    "\n",
    "while (thickness <= MOUNT_FUJI_HEIGHT):\n",
    "    thickness *= 2\n",
    "    count += 1\n",
    "    \n",
    "print(f\"The number of times the paper must be folded for its thickness to exceed the height of Mount Fuji is {count} times\")"
   ]
  },
  {
   "cell_type": "code",
   "execution_count": 2,
   "id": "12a54b10",
   "metadata": {},
   "outputs": [
    {
     "data": {
      "text/plain": [
       "5368.70912"
      ]
     },
     "execution_count": 2,
     "metadata": {},
     "output_type": "execute_result"
    }
   ],
   "source": [
    "0.00008 * (2**26)"
   ]
  },
  {
   "cell_type": "markdown",
   "id": "c32de634",
   "metadata": {},
   "source": [
    "## **Problem 2**\n",
    "##### Function corresponding to arbitrary thickness"
   ]
  },
  {
   "cell_type": "code",
   "execution_count": 3,
   "id": "86753257",
   "metadata": {},
   "outputs": [
    {
     "name": "stdout",
     "output_type": "stream",
     "text": [
      "The number of folds required to reach Proxima Centauri is 69 folds\n"
     ]
    }
   ],
   "source": [
    "def calculate_number_of_folds(required_thickness):\n",
    "    \"\"\"\n",
    "    Program to calculate the number of times a piece of paper has to be folded for its thickness to reach a given value\n",
    "    \n",
    "    Parameters:\n",
    "    required_thickness: (int/float) the required thickness of the paper after being folded count times\n",
    "    \n",
    "    Returns:\n",
    "    count: (int) the number of times the paper has to be folded to reach required_thickness\"\"\"\n",
    "    THICKNESS_OF_PAPER = 0.00008\n",
    "    count = 0\n",
    "    \n",
    "    while (THICKNESS_OF_PAPER <= required_thickness):\n",
    "        THICKNESS_OF_PAPER *= 2\n",
    "        count += 1\n",
    "        \n",
    "    return count\n",
    "\n",
    "number_of_folds_to_reach_closest_non_sun_star = calculate_number_of_folds(4.0175e+16)\n",
    "print(f\"The number of folds required to reach Proxima Centauri is {number_of_folds_to_reach_closest_non_sun_star} folds\")"
   ]
  },
  {
   "cell_type": "markdown",
   "id": "610ca386",
   "metadata": {},
   "source": [
    "## **Problem 3**\n",
    "##### Required Paper Length"
   ]
  },
  {
   "cell_type": "code",
   "execution_count": 4,
   "id": "82049099",
   "metadata": {},
   "outputs": [],
   "source": [
    "import math\n",
    "def calculate_required_length_of_paper(required_thickness):\n",
    "    PI = math.pi\n",
    "    THICKNESS_OF_PAPER = 0.00008\n",
    "    \n",
    "    # Determine how many times paper needs to be folded\n",
    "    count = calculate_number_of_folds(required_thickness)\n",
    "    \n",
    "    length = (PI*THICKNESS_OF_PAPER/6)*(2**count + 4)*(2**count - 1)\n",
    "    return length"
   ]
  },
  {
   "cell_type": "code",
   "execution_count": 5,
   "id": "1e2d434b",
   "metadata": {},
   "outputs": [
    {
     "name": "stdout",
     "output_type": "stream",
     "text": [
      "The required length of a paper needed to fold a paper to reach the moon is 3.240919444170781e+21 metres.\n",
      "The required length of a paper needed to fold a paper to reach Mt. Fuji is 188646348487.24017 metres.\n",
      "The required length of a paper needed to fold a paper to reach the Proxima Centauri is 1.4595803601100348e+37 metres.\n"
     ]
    }
   ],
   "source": [
    "# Thicknesses to moon, mount fuji and closest star to sun in meters\n",
    "MOON_THICKNESS = 384400000\n",
    "MT_FUJI_THICKNESS = 3776\n",
    "PROXIMA_CENTAURI_THICKNESS = 4.0175e+16\n",
    "\n",
    "moon_length = calculate_required_length_of_paper(MOON_THICKNESS)\n",
    "print(f\"The required length of a paper needed to fold a paper to reach the moon is {moon_length} metres.\")\n",
    "fuji_length = calculate_required_length_of_paper(MT_FUJI_THICKNESS)\n",
    "print(f\"The required length of a paper needed to fold a paper to reach Mt. Fuji is {fuji_length} metres.\")\n",
    "proxima_centauri_length = calculate_required_length_of_paper(PROXIMA_CENTAURI_THICKNESS)\n",
    "print(f\"The required length of a paper needed to fold a paper to reach the Proxima Centauri is {proxima_centauri_length} metres.\")"
   ]
  },
  {
   "cell_type": "code",
   "execution_count": null,
   "id": "b1697879",
   "metadata": {},
   "outputs": [],
   "source": []
  }
 ],
 "metadata": {
  "kernelspec": {
   "display_name": "Python 3 (ipykernel)",
   "language": "python",
   "name": "python3"
  },
  "language_info": {
   "codemirror_mode": {
    "name": "ipython",
    "version": 3
   },
   "file_extension": ".py",
   "mimetype": "text/x-python",
   "name": "python",
   "nbconvert_exporter": "python",
   "pygments_lexer": "ipython3",
   "version": "3.10.10"
  }
 },
 "nbformat": 4,
 "nbformat_minor": 5
}
